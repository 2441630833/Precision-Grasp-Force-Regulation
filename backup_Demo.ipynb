{
 "cells": [
  {
   "cell_type": "code",
   "execution_count": 1,
   "id": "24b767a4",
   "metadata": {
    "ExecuteTime": {
     "end_time": "2024-02-18T06:51:54.135290Z",
     "start_time": "2024-02-18T06:51:54.130292Z"
    }
   },
   "outputs": [],
   "source": [
    "import logging\n",
    "import can\n",
    "from time import sleep\n",
    "\n",
    "# Initialize logging\n",
    "logging.basicConfig(\n",
    "    level=logging.ERROR, format=\"%(asctime)s - %(levelname)s - %(message)s\"\n",
    ")\n",
    "\n",
    "# 初始化CAN总线\n",
    "bus = can.interface.Bus(interface=\"pcan\", channel=\"PCAN_USBBUS1\", bitrate=1000000)\n",
    "########################################\n",
    "# 导入机械爪和小米微电机CAN总线库\n",
    "########################################\n",
    "from gripper_control import GripperControl\n",
    "from pcan_cybergear import CANMotorController"
   ]
  },
  {
   "cell_type": "code",
   "execution_count": 3,
   "id": "6b7573f1",
   "metadata": {
    "ExecuteTime": {
     "end_time": "2024-02-18T06:52:02.224240Z",
     "start_time": "2024-02-18T06:52:02.213912Z"
    }
   },
   "outputs": [],
   "source": [
    "# 机械爪驱动器CAN ID为1\n",
    "gripper = GripperControl(bus, addr=1)\n",
    "\n",
    "# 修改闭环模式最大输出电压，从而调整最大输出加持力量，单位mV，最大可以是 5000mV\n",
    "gripper.set_max_output_voltage(5000)\n",
    "\n",
    "# 自动初始化爪开合位置\n",
    "gripper.init_position()\n",
    "\n",
    "# 合\n",
    "# gripper.close_gripper()\n",
    "\n",
    "# sleep(3)\n",
    "\n",
    "# 自动调整位置以解除卡顿\n",
    "# gripper.clear_clog()\n",
    "\n",
    "# 开\n",
    "# gripper.open_gripper()"
   ]
  },
  {
   "cell_type": "code",
   "execution_count": 3,
   "id": "abb32a37",
   "metadata": {},
   "outputs": [],
   "source": [
    "gripper.set_max_output_voltage(5000)"
   ]
  },
  {
   "cell_type": "code",
   "execution_count": 8,
   "id": "d2035d79",
   "metadata": {},
   "outputs": [],
   "source": [
    "gripper.close_gripper()"
   ]
  },
  {
   "cell_type": "code",
   "execution_count": 9,
   "id": "20dfb104",
   "metadata": {},
   "outputs": [],
   "source": [
    "gripper.open_gripper()"
   ]
  },
  {
   "cell_type": "code",
   "execution_count": null,
   "id": "28138d7a",
   "metadata": {},
   "outputs": [],
   "source": []
  },
  {
   "cell_type": "code",
   "execution_count": null,
   "id": "8f4ca7df",
   "metadata": {},
   "outputs": [],
   "source": [
    "print(force)"
   ]
  },
  {
   "cell_type": "code",
   "execution_count": 8,
   "id": "76bf59fb",
   "metadata": {},
   "outputs": [
    {
     "ename": "NameError",
     "evalue": "name 'motor1' is not defined",
     "output_type": "error",
     "traceback": [
      "\u001b[1;31m---------------------------------------------------------------------------\u001b[0m",
      "\u001b[1;31mNameError\u001b[0m                                 Traceback (most recent call last)",
      "Cell \u001b[1;32mIn[8], line 9\u001b[0m\n\u001b[0;32m      6\u001b[0m motor \u001b[38;5;241m=\u001b[39m CANMotorController(bus, motor_id\u001b[38;5;241m=\u001b[39m\u001b[38;5;241m101\u001b[39m, main_can_id\u001b[38;5;241m=\u001b[39m\u001b[38;5;241m254\u001b[39m)\n\u001b[0;32m      8\u001b[0m \u001b[38;5;66;03m# 配置电机最大输出电流\u001b[39;00m\n\u001b[1;32m----> 9\u001b[0m motor1\u001b[38;5;241m.\u001b[39mwrite_param_table(\u001b[38;5;124m\"\u001b[39m\u001b[38;5;124mlimit_cur\u001b[39m\u001b[38;5;124m\"\u001b[39m, \u001b[38;5;241m1\u001b[39m)\n\u001b[0;32m     11\u001b[0m \u001b[38;5;66;03m# 位置置零\u001b[39;00m\n\u001b[0;32m     12\u001b[0m motor\u001b[38;5;241m.\u001b[39mset_0_pos()\n",
      "\u001b[1;31mNameError\u001b[0m: name 'motor1' is not defined"
     ]
    }
   ],
   "source": [
    "#######################################\n",
    "# 控制同一条CAN总线上的小米Cybergear微电机\n",
    "#######################################\n",
    "\n",
    "# 小米微电机的CAN ID为101，上位机电脑的CAN ID为254\n",
    "motor = CANMotorController(bus, motor_id=101, main_can_id=254)\n",
    "\n",
    "# 配置电机最大输出电流\n",
    "motor1.write_param_table(\"limit_cur\", 1)\n",
    "\n",
    "# 位置置零\n",
    "motor.set_0_pos()\n",
    "\n",
    "# 最大速度 单位：rad/s\n",
    "motor.write_single_param(\"limit_spd\", value=1)\n",
    "\n",
    "# 位置模式\n",
    "motor.set_run_mode(motor.RunModes.POSITION_MODE)\n",
    "\n",
    "# 使能电机\n",
    "motor.enable()\n",
    "\n",
    "# 运动到指定位置 单位：rad\n",
    "motor.write_single_param(\"loc_ref\", value=0.5)\n",
    "\n",
    "sleep(3)\n",
    "\n",
    "# 停止电机\n",
    "motor.disable()"
   ]
  }
 ],
 "metadata": {
  "kernelspec": {
   "display_name": "base",
   "language": "python",
   "name": "python3"
  },
  "language_info": {
   "codemirror_mode": {
    "name": "ipython",
    "version": 3
   },
   "file_extension": ".py",
   "mimetype": "text/x-python",
   "name": "python",
   "nbconvert_exporter": "python",
   "pygments_lexer": "ipython3",
   "version": "3.11.5"
  }
 },
 "nbformat": 4,
 "nbformat_minor": 5
}
